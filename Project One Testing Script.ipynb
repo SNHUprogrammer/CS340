{
 "cells": [
  {
   "cell_type": "code",
   "execution_count": 1,
   "id": "04c57c15",
   "metadata": {},
   "outputs": [],
   "source": [
    "from animal_shelter import *"
   ]
  },
  {
   "cell_type": "code",
   "execution_count": 2,
   "id": "cdda7bc2",
   "metadata": {},
   "outputs": [],
   "source": [
    "crudder = AnimalShelter() # username and password hard-coded in class"
   ]
  },
  {
   "cell_type": "code",
   "execution_count": 3,
   "id": "6f59a546",
   "metadata": {},
   "outputs": [
    {
     "name": "stdout",
     "output_type": "stream",
     "text": [
      "True\n"
     ]
    }
   ],
   "source": [
    "print(crudder.create({\"animal_id\" : \"1\", \"breed\" : \"clone\"})) #make a test animal"
   ]
  },
  {
   "cell_type": "code",
   "execution_count": 4,
   "id": "569d5b19",
   "metadata": {},
   "outputs": [
    {
     "name": "stdout",
     "output_type": "stream",
     "text": [
      "True\n"
     ]
    }
   ],
   "source": [
    "print(crudder.create({\"animal_id\" : \"2\", \"breed\" : \"clone\"})) #make a second test animal"
   ]
  },
  {
   "cell_type": "code",
   "execution_count": 5,
   "id": "1aa8c5a7",
   "metadata": {},
   "outputs": [
    {
     "name": "stdout",
     "output_type": "stream",
     "text": [
      "{'animal_id': '1', 'breed': 'clone'}\n",
      "{'animal_id': '2', 'breed': 'clone'}\n"
     ]
    }
   ],
   "source": [
    "crudder.read({\"breed\" : \"clone\"}) #find the test animals"
   ]
  },
  {
   "cell_type": "code",
   "execution_count": 6,
   "id": "c8219634",
   "metadata": {},
   "outputs": [
    {
     "data": {
      "text/plain": [
       "1"
      ]
     },
     "execution_count": 6,
     "metadata": {},
     "output_type": "execute_result"
    }
   ],
   "source": [
    "crudder.update({\"animal_id\" : \"2\"}, {\"$set\" : {\"breed\" : \"mutant\"}}) #update one (the second) test animal's breed"
   ]
  },
  {
   "cell_type": "code",
   "execution_count": 7,
   "id": "1c95826f",
   "metadata": {},
   "outputs": [
    {
     "name": "stdout",
     "output_type": "stream",
     "text": [
      "{'animal_id': '1', 'breed': 'clone'}\n"
     ]
    }
   ],
   "source": [
    "crudder.read({\"breed\" : \"clone\"}) #find the test animal"
   ]
  },
  {
   "cell_type": "code",
   "execution_count": 8,
   "id": "5fd31a1f",
   "metadata": {},
   "outputs": [
    {
     "name": "stdout",
     "output_type": "stream",
     "text": [
      "{'animal_id': '2', 'breed': 'mutant'}\n"
     ]
    }
   ],
   "source": [
    "crudder.read({\"breed\" : \"mutant\"}) #find the mutant animal"
   ]
  },
  {
   "cell_type": "code",
   "execution_count": 9,
   "id": "becab300",
   "metadata": {},
   "outputs": [
    {
     "data": {
      "text/plain": [
       "1"
      ]
     },
     "execution_count": 9,
     "metadata": {},
     "output_type": "execute_result"
    }
   ],
   "source": [
    "crudder.delete({\"animal_id\" : \"2\"}) #delete the mutant animal"
   ]
  },
  {
   "cell_type": "code",
   "execution_count": 10,
   "id": "02ef3120",
   "metadata": {},
   "outputs": [
    {
     "name": "stdout",
     "output_type": "stream",
     "text": [
      "{'animal_id': '1', 'breed': 'clone'}\n"
     ]
    }
   ],
   "source": [
    "crudder.read({\"breed\" : \"clone\"}) #find the original test animal in the collection"
   ]
  },
  {
   "cell_type": "code",
   "execution_count": 11,
   "id": "9b92b5c9",
   "metadata": {},
   "outputs": [],
   "source": [
    "crudder.read({\"breed\" : \"mutant\"}) #look for the deleted mutant in the collection (no results because it's deleted)"
   ]
  },
  {
   "cell_type": "code",
   "execution_count": null,
   "id": "db883ba7",
   "metadata": {},
   "outputs": [],
   "source": []
  }
 ],
 "metadata": {
  "kernelspec": {
   "display_name": "Python 3 (ipykernel)",
   "language": "python",
   "name": "python3"
  },
  "language_info": {
   "codemirror_mode": {
    "name": "ipython",
    "version": 3
   },
   "file_extension": ".py",
   "mimetype": "text/x-python",
   "name": "python",
   "nbconvert_exporter": "python",
   "pygments_lexer": "ipython3",
   "version": "3.9.12"
  }
 },
 "nbformat": 4,
 "nbformat_minor": 5
}
